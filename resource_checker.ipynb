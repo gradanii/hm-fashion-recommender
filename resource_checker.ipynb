{
 "cells": [
  {
   "cell_type": "code",
   "execution_count": 1,
   "metadata": {},
   "outputs": [
    {
     "name": "stdout",
     "output_type": "stream",
     "text": [
      "\u001b[33mWARNING: Ignoring invalid distribution -wcwidth (/Volumes/Programming/github/gradanii/hm-fashion-recommender/venv/lib/python3.12/site-packages)\u001b[0m\u001b[33m\n",
      "\u001b[0m\u001b[33mWARNING: Ignoring invalid distribution -pure-eval (/Volumes/Programming/github/gradanii/hm-fashion-recommender/venv/lib/python3.12/site-packages)\u001b[0m\u001b[33m\n",
      "\u001b[0m\u001b[33mWARNING: Ignoring invalid distribution -ptyprocess (/Volumes/Programming/github/gradanii/hm-fashion-recommender/venv/lib/python3.12/site-packages)\u001b[0m\u001b[33m\n",
      "\u001b[0m\u001b[33mWARNING: Ignoring invalid distribution -traitlets (/Volumes/Programming/github/gradanii/hm-fashion-recommender/venv/lib/python3.12/site-packages)\u001b[0m\u001b[33m\n",
      "\u001b[0m\u001b[33mWARNING: Ignoring invalid distribution -tornado (/Volumes/Programming/github/gradanii/hm-fashion-recommender/venv/lib/python3.12/site-packages)\u001b[0m\u001b[33m\n",
      "\u001b[0m\u001b[33mWARNING: Ignoring invalid distribution -six (/Volumes/Programming/github/gradanii/hm-fashion-recommender/venv/lib/python3.12/site-packages)\u001b[0m\u001b[33m\n",
      "\u001b[0m\u001b[33mWARNING: Ignoring invalid distribution -pyzmq (/Volumes/Programming/github/gradanii/hm-fashion-recommender/venv/lib/python3.12/site-packages)\u001b[0m\u001b[33m\n",
      "\u001b[0m\u001b[33mWARNING: Ignoring invalid distribution -pygments (/Volumes/Programming/github/gradanii/hm-fashion-recommender/venv/lib/python3.12/site-packages)\u001b[0m\u001b[33m\n",
      "\u001b[0m\u001b[33mWARNING: Ignoring invalid distribution -psutil (/Volumes/Programming/github/gradanii/hm-fashion-recommender/venv/lib/python3.12/site-packages)\u001b[0m\u001b[33m\n",
      "\u001b[0m\u001b[33mWARNING: Ignoring invalid distribution -prompt-toolkit (/Volumes/Programming/github/gradanii/hm-fashion-recommender/venv/lib/python3.12/site-packages)\u001b[0m\u001b[33m\n",
      "\u001b[0m\u001b[33mWARNING: Ignoring invalid distribution -platformdirs (/Volumes/Programming/github/gradanii/hm-fashion-recommender/venv/lib/python3.12/site-packages)\u001b[0m\u001b[33m\n",
      "\u001b[0m\u001b[33mWARNING: Ignoring invalid distribution -pexpect (/Volumes/Programming/github/gradanii/hm-fashion-recommender/venv/lib/python3.12/site-packages)\u001b[0m\u001b[33m\n",
      "\u001b[0m\u001b[33mWARNING: Ignoring invalid distribution -parso (/Volumes/Programming/github/gradanii/hm-fashion-recommender/venv/lib/python3.12/site-packages)\u001b[0m\u001b[33m\n",
      "\u001b[0m\u001b[33mWARNING: Ignoring invalid distribution -packaging (/Volumes/Programming/github/gradanii/hm-fashion-recommender/venv/lib/python3.12/site-packages)\u001b[0m\u001b[33m\n",
      "\u001b[0m\u001b[33mWARNING: Ignoring invalid distribution -nest-asyncio (/Volumes/Programming/github/gradanii/hm-fashion-recommender/venv/lib/python3.12/site-packages)\u001b[0m\u001b[33m\n",
      "\u001b[0m\u001b[33mWARNING: Ignoring invalid distribution -executing (/Volumes/Programming/github/gradanii/hm-fashion-recommender/venv/lib/python3.12/site-packages)\u001b[0m\u001b[33m\n",
      "\u001b[0m\u001b[33mWARNING: Ignoring invalid distribution -decorator (/Volumes/Programming/github/gradanii/hm-fashion-recommender/venv/lib/python3.12/site-packages)\u001b[0m\u001b[33m\n",
      "\u001b[0m\u001b[33mWARNING: Ignoring invalid distribution -debugpy (/Volumes/Programming/github/gradanii/hm-fashion-recommender/venv/lib/python3.12/site-packages)\u001b[0m\u001b[33m\n",
      "\u001b[0m\u001b[33mWARNING: Ignoring invalid distribution -asttokens (/Volumes/Programming/github/gradanii/hm-fashion-recommender/venv/lib/python3.12/site-packages)\u001b[0m\u001b[33m\n",
      "\u001b[0m\u001b[33mWARNING: Ignoring invalid distribution -appnope (/Volumes/Programming/github/gradanii/hm-fashion-recommender/venv/lib/python3.12/site-packages)\u001b[0m\u001b[33m\n",
      "\u001b[0m\u001b[33mWARNING: Ignoring invalid distribution -stack-data (/Volumes/Programming/github/gradanii/hm-fashion-recommender/venv/lib/python3.12/site-packages)\u001b[0m\u001b[33m\n",
      "\u001b[0m\u001b[33mWARNING: Ignoring invalid distribution -python-dateutil (/Volumes/Programming/github/gradanii/hm-fashion-recommender/venv/lib/python3.12/site-packages)\u001b[0m\u001b[33m\n",
      "\u001b[0m\u001b[33mWARNING: Ignoring invalid distribution -matplotlib-inline (/Volumes/Programming/github/gradanii/hm-fashion-recommender/venv/lib/python3.12/site-packages)\u001b[0m\u001b[33m\n",
      "\u001b[0m\u001b[33mWARNING: Ignoring invalid distribution -jupyter-core (/Volumes/Programming/github/gradanii/hm-fashion-recommender/venv/lib/python3.12/site-packages)\u001b[0m\u001b[33m\n",
      "\u001b[0m\u001b[33mWARNING: Ignoring invalid distribution -jedi (/Volumes/Programming/github/gradanii/hm-fashion-recommender/venv/lib/python3.12/site-packages)\u001b[0m\u001b[33m\n",
      "\u001b[0m\u001b[33mWARNING: Ignoring invalid distribution -ipython-pygments-lexers (/Volumes/Programming/github/gradanii/hm-fashion-recommender/venv/lib/python3.12/site-packages)\u001b[0m\u001b[33m\n",
      "\u001b[0m\u001b[33mWARNING: Ignoring invalid distribution -comm (/Volumes/Programming/github/gradanii/hm-fashion-recommender/venv/lib/python3.12/site-packages)\u001b[0m\u001b[33m\n",
      "\u001b[0m\u001b[33mWARNING: Ignoring invalid distribution -jupyter-client (/Volumes/Programming/github/gradanii/hm-fashion-recommender/venv/lib/python3.12/site-packages)\u001b[0m\u001b[33m\n",
      "\u001b[0m\u001b[33mWARNING: Ignoring invalid distribution -ipython (/Volumes/Programming/github/gradanii/hm-fashion-recommender/venv/lib/python3.12/site-packages)\u001b[0m\u001b[33m\n",
      "\u001b[0m\u001b[33mWARNING: Ignoring invalid distribution -ipykernel (/Volumes/Programming/github/gradanii/hm-fashion-recommender/venv/lib/python3.12/site-packages)\u001b[0m\u001b[33m\n",
      "\u001b[0mName: torch\n",
      "Version: 2.6.0\n",
      "Summary: Tensors and Dynamic neural networks in Python with strong GPU acceleration\n",
      "Home-page: https://pytorch.org/\n",
      "Author: PyTorch Team\n",
      "Author-email: packages@pytorch.org\n",
      "License: BSD-3-Clause\n",
      "Location: /Volumes/Programming/github/gradanii/hm-fashion-recommender/venv/lib/python3.12/site-packages\n",
      "Requires: filelock, fsspec, jinja2, networkx, setuptools, sympy, typing-extensions\n",
      "Required-by: torchvision\n"
     ]
    }
   ],
   "source": [
    "!pip show torch"
   ]
  },
  {
   "cell_type": "code",
   "execution_count": 2,
   "metadata": {},
   "outputs": [
    {
     "name": "stdout",
     "output_type": "stream",
     "text": [
      "Is Metal GPU available? True\n",
      "Is MPS built? True\n"
     ]
    }
   ],
   "source": [
    "import torch\n",
    "\n",
    "print(\"Is Metal GPU available?\", torch.backends.mps.is_available())\n",
    "print(\"Is MPS built?\", torch.backends.mps.is_built())"
   ]
  },
  {
   "cell_type": "code",
   "execution_count": 3,
   "metadata": {},
   "outputs": [
    {
     "name": "stdout",
     "output_type": "stream",
     "text": [
      "Current device: mps\n"
     ]
    }
   ],
   "source": [
    "device = torch.device(\"mps\")\n",
    "print(\"Current device:\", device)"
   ]
  },
  {
   "cell_type": "code",
   "execution_count": 4,
   "metadata": {},
   "outputs": [
    {
     "ename": "RuntimeError",
     "evalue": "Invalid buffer size: 530.56 GB",
     "output_type": "error",
     "traceback": [
      "\u001b[31m---------------------------------------------------------------------------\u001b[39m",
      "\u001b[31mRuntimeError\u001b[39m                              Traceback (most recent call last)",
      "\u001b[36mCell\u001b[39m\u001b[36m \u001b[39m\u001b[32mIn[4]\u001b[39m\u001b[32m, line 8\u001b[39m\n\u001b[32m      5\u001b[39m V = torch.randn((\u001b[32m50\u001b[39m, \u001b[32m104547\u001b[39m), device=device)\n\u001b[32m      7\u001b[39m \u001b[38;5;66;03m# Matrix multiplication on the GPU\u001b[39;00m\n\u001b[32m----> \u001b[39m\u001b[32m8\u001b[39m M = \u001b[43mtorch\u001b[49m\u001b[43m.\u001b[49m\u001b[43mmatmul\u001b[49m\u001b[43m(\u001b[49m\u001b[43mU\u001b[49m\u001b[43m,\u001b[49m\u001b[43m \u001b[49m\u001b[43mV\u001b[49m\u001b[43m)\u001b[49m\n\u001b[32m     10\u001b[39m \u001b[38;5;28mprint\u001b[39m(\u001b[33m\"\u001b[39m\u001b[33mMultiplication complete:\u001b[39m\u001b[33m\"\u001b[39m, M.shape)\n",
      "\u001b[31mRuntimeError\u001b[39m: Invalid buffer size: 530.56 GB"
     ]
    }
   ],
   "source": [
    "device = torch.device(\"mps\")\n",
    "\n",
    "# Create large tensors on the GPU\n",
    "U = torch.randn((1362281, 50), device=device)\n",
    "V = torch.randn((50, 104547), device=device)\n",
    "\n",
    "# Matrix multiplication on the GPU\n",
    "M = torch.matmul(U, V)\n",
    "\n",
    "print(\"Multiplication complete:\", M.shape)"
   ]
  },
  {
   "cell_type": "code",
   "execution_count": null,
   "metadata": {},
   "outputs": [],
   "source": []
  }
 ],
 "metadata": {
  "kernelspec": {
   "display_name": "venv",
   "language": "python",
   "name": "python3"
  },
  "language_info": {
   "codemirror_mode": {
    "name": "ipython",
    "version": 3
   },
   "file_extension": ".py",
   "mimetype": "text/x-python",
   "name": "python",
   "nbconvert_exporter": "python",
   "pygments_lexer": "ipython3",
   "version": "3.12.8"
  }
 },
 "nbformat": 4,
 "nbformat_minor": 2
}
