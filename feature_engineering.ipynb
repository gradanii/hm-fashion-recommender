{
 "cells": [
  {
   "cell_type": "code",
   "execution_count": 1,
   "metadata": {},
   "outputs": [
    {
     "data": {
      "text/html": [
       "<div>\n",
       "<style scoped>\n",
       "    .dataframe tbody tr th:only-of-type {\n",
       "        vertical-align: middle;\n",
       "    }\n",
       "\n",
       "    .dataframe tbody tr th {\n",
       "        vertical-align: top;\n",
       "    }\n",
       "\n",
       "    .dataframe thead th {\n",
       "        text-align: right;\n",
       "    }\n",
       "</style>\n",
       "<table border=\"1\" class=\"dataframe\">\n",
       "  <thead>\n",
       "    <tr style=\"text-align: right;\">\n",
       "      <th></th>\n",
       "      <th>customer_id</th>\n",
       "      <th>article_id</th>\n",
       "      <th>price</th>\n",
       "      <th>purchase_flag</th>\n",
       "      <th>age</th>\n",
       "      <th>postal_code</th>\n",
       "      <th>product_code</th>\n",
       "      <th>prod_name</th>\n",
       "      <th>product_type_no</th>\n",
       "      <th>product_type_name</th>\n",
       "      <th>...</th>\n",
       "      <th>department_name</th>\n",
       "      <th>index_code</th>\n",
       "      <th>index_name</th>\n",
       "      <th>index_group_no</th>\n",
       "      <th>index_group_name</th>\n",
       "      <th>section_no</th>\n",
       "      <th>section_name</th>\n",
       "      <th>garment_group_no</th>\n",
       "      <th>garment_group_name</th>\n",
       "      <th>detail_desc</th>\n",
       "    </tr>\n",
       "  </thead>\n",
       "  <tbody>\n",
       "    <tr>\n",
       "      <th>0</th>\n",
       "      <td>000058a12d5b43e67d225668fa1f8d618c13dc232df0ca...</td>\n",
       "      <td>663713001</td>\n",
       "      <td>0.050831</td>\n",
       "      <td>1</td>\n",
       "      <td>24.0</td>\n",
       "      <td>64f17e6a330a85798e4998f62d0930d14db8db1c054af6...</td>\n",
       "      <td>663713</td>\n",
       "      <td>Atlanta Push Body Harlow</td>\n",
       "      <td>283</td>\n",
       "      <td>Underwear body</td>\n",
       "      <td>...</td>\n",
       "      <td>Expressive Lingerie</td>\n",
       "      <td>B</td>\n",
       "      <td>Lingeries/Tights</td>\n",
       "      <td>1</td>\n",
       "      <td>Ladieswear</td>\n",
       "      <td>61</td>\n",
       "      <td>Womens Lingerie</td>\n",
       "      <td>1017</td>\n",
       "      <td>Under-, Nightwear</td>\n",
       "      <td>Lace push-up body with underwired, moulded, pa...</td>\n",
       "    </tr>\n",
       "    <tr>\n",
       "      <th>1</th>\n",
       "      <td>000058a12d5b43e67d225668fa1f8d618c13dc232df0ca...</td>\n",
       "      <td>541518023</td>\n",
       "      <td>0.030492</td>\n",
       "      <td>1</td>\n",
       "      <td>24.0</td>\n",
       "      <td>64f17e6a330a85798e4998f62d0930d14db8db1c054af6...</td>\n",
       "      <td>541518</td>\n",
       "      <td>Rae Push (Melbourne) 2p</td>\n",
       "      <td>306</td>\n",
       "      <td>Bra</td>\n",
       "      <td>...</td>\n",
       "      <td>Casual Lingerie</td>\n",
       "      <td>B</td>\n",
       "      <td>Lingeries/Tights</td>\n",
       "      <td>1</td>\n",
       "      <td>Ladieswear</td>\n",
       "      <td>61</td>\n",
       "      <td>Womens Lingerie</td>\n",
       "      <td>1017</td>\n",
       "      <td>Under-, Nightwear</td>\n",
       "      <td>Lace push-up bras with underwired, moulded, pa...</td>\n",
       "    </tr>\n",
       "    <tr>\n",
       "      <th>2</th>\n",
       "      <td>00007d2de826758b65a93dd24ce629ed66842531df6699...</td>\n",
       "      <td>505221004</td>\n",
       "      <td>0.015237</td>\n",
       "      <td>1</td>\n",
       "      <td>32.0</td>\n",
       "      <td>8d6f45050876d059c830a0fe63f1a4c022de279bb68ce3...</td>\n",
       "      <td>505221</td>\n",
       "      <td>Inca Jumper</td>\n",
       "      <td>252</td>\n",
       "      <td>Sweater</td>\n",
       "      <td>...</td>\n",
       "      <td>Tops Knitwear DS</td>\n",
       "      <td>D</td>\n",
       "      <td>Divided</td>\n",
       "      <td>2</td>\n",
       "      <td>Divided</td>\n",
       "      <td>58</td>\n",
       "      <td>Divided Selected</td>\n",
       "      <td>1003</td>\n",
       "      <td>Knitwear</td>\n",
       "      <td>Jumper in rib-knit cotton with hard-worn detai...</td>\n",
       "    </tr>\n",
       "    <tr>\n",
       "      <th>3</th>\n",
       "      <td>00007d2de826758b65a93dd24ce629ed66842531df6699...</td>\n",
       "      <td>685687003</td>\n",
       "      <td>0.016932</td>\n",
       "      <td>1</td>\n",
       "      <td>32.0</td>\n",
       "      <td>8d6f45050876d059c830a0fe63f1a4c022de279bb68ce3...</td>\n",
       "      <td>685687</td>\n",
       "      <td>W YODA KNIT OL OFFER</td>\n",
       "      <td>252</td>\n",
       "      <td>Sweater</td>\n",
       "      <td>...</td>\n",
       "      <td>Campaigns</td>\n",
       "      <td>A</td>\n",
       "      <td>Ladieswear</td>\n",
       "      <td>1</td>\n",
       "      <td>Ladieswear</td>\n",
       "      <td>15</td>\n",
       "      <td>Womens Everyday Collection</td>\n",
       "      <td>1023</td>\n",
       "      <td>Special Offers</td>\n",
       "      <td>V-neck knitted jumper with long sleeves and ri...</td>\n",
       "    </tr>\n",
       "    <tr>\n",
       "      <th>4</th>\n",
       "      <td>00007d2de826758b65a93dd24ce629ed66842531df6699...</td>\n",
       "      <td>685687004</td>\n",
       "      <td>0.016932</td>\n",
       "      <td>1</td>\n",
       "      <td>32.0</td>\n",
       "      <td>8d6f45050876d059c830a0fe63f1a4c022de279bb68ce3...</td>\n",
       "      <td>685687</td>\n",
       "      <td>W YODA KNIT OL OFFER</td>\n",
       "      <td>252</td>\n",
       "      <td>Sweater</td>\n",
       "      <td>...</td>\n",
       "      <td>Campaigns</td>\n",
       "      <td>A</td>\n",
       "      <td>Ladieswear</td>\n",
       "      <td>1</td>\n",
       "      <td>Ladieswear</td>\n",
       "      <td>15</td>\n",
       "      <td>Womens Everyday Collection</td>\n",
       "      <td>1023</td>\n",
       "      <td>Special Offers</td>\n",
       "      <td>V-neck knitted jumper with long sleeves and ri...</td>\n",
       "    </tr>\n",
       "  </tbody>\n",
       "</table>\n",
       "<p>5 rows × 30 columns</p>\n",
       "</div>"
      ],
      "text/plain": [
       "                                         customer_id  article_id     price  \\\n",
       "0  000058a12d5b43e67d225668fa1f8d618c13dc232df0ca...   663713001  0.050831   \n",
       "1  000058a12d5b43e67d225668fa1f8d618c13dc232df0ca...   541518023  0.030492   \n",
       "2  00007d2de826758b65a93dd24ce629ed66842531df6699...   505221004  0.015237   \n",
       "3  00007d2de826758b65a93dd24ce629ed66842531df6699...   685687003  0.016932   \n",
       "4  00007d2de826758b65a93dd24ce629ed66842531df6699...   685687004  0.016932   \n",
       "\n",
       "   purchase_flag   age                                        postal_code  \\\n",
       "0              1  24.0  64f17e6a330a85798e4998f62d0930d14db8db1c054af6...   \n",
       "1              1  24.0  64f17e6a330a85798e4998f62d0930d14db8db1c054af6...   \n",
       "2              1  32.0  8d6f45050876d059c830a0fe63f1a4c022de279bb68ce3...   \n",
       "3              1  32.0  8d6f45050876d059c830a0fe63f1a4c022de279bb68ce3...   \n",
       "4              1  32.0  8d6f45050876d059c830a0fe63f1a4c022de279bb68ce3...   \n",
       "\n",
       "   product_code                 prod_name  product_type_no product_type_name  \\\n",
       "0        663713  Atlanta Push Body Harlow              283    Underwear body   \n",
       "1        541518   Rae Push (Melbourne) 2p              306               Bra   \n",
       "2        505221               Inca Jumper              252           Sweater   \n",
       "3        685687      W YODA KNIT OL OFFER              252           Sweater   \n",
       "4        685687      W YODA KNIT OL OFFER              252           Sweater   \n",
       "\n",
       "   ...      department_name  index_code        index_name  index_group_no  \\\n",
       "0  ...  Expressive Lingerie           B  Lingeries/Tights               1   \n",
       "1  ...      Casual Lingerie           B  Lingeries/Tights               1   \n",
       "2  ...     Tops Knitwear DS           D           Divided               2   \n",
       "3  ...            Campaigns           A        Ladieswear               1   \n",
       "4  ...            Campaigns           A        Ladieswear               1   \n",
       "\n",
       "  index_group_name  section_no                section_name  garment_group_no  \\\n",
       "0       Ladieswear          61             Womens Lingerie              1017   \n",
       "1       Ladieswear          61             Womens Lingerie              1017   \n",
       "2          Divided          58            Divided Selected              1003   \n",
       "3       Ladieswear          15  Womens Everyday Collection              1023   \n",
       "4       Ladieswear          15  Womens Everyday Collection              1023   \n",
       "\n",
       "  garment_group_name                                        detail_desc  \n",
       "0  Under-, Nightwear  Lace push-up body with underwired, moulded, pa...  \n",
       "1  Under-, Nightwear  Lace push-up bras with underwired, moulded, pa...  \n",
       "2           Knitwear  Jumper in rib-knit cotton with hard-worn detai...  \n",
       "3     Special Offers  V-neck knitted jumper with long sleeves and ri...  \n",
       "4     Special Offers  V-neck knitted jumper with long sleeves and ri...  \n",
       "\n",
       "[5 rows x 30 columns]"
      ]
     },
     "execution_count": 1,
     "metadata": {},
     "output_type": "execute_result"
    }
   ],
   "source": [
    "import pandas as pd\n",
    "\n",
    "df = pd.read_parquet('data/merged_data.parquet')\n",
    "df.head()"
   ]
  },
  {
   "cell_type": "code",
   "execution_count": 2,
   "metadata": {},
   "outputs": [
    {
     "data": {
      "text/plain": [
       "(array([      0,       0,       1, ..., 1090369,  729233, 1025409],\n",
       "       shape=(31788324,)),\n",
       " Index(['000058a12d5b43e67d225668fa1f8d618c13dc232df0cad8ffe7ad4a1091e318',\n",
       "        '00007d2de826758b65a93dd24ce629ed66842531df6699338c5570910a014cc2',\n",
       "        '00083cda041544b2fbb0e0d2905ad17da7cf1007526fb4c73235dccbbc132280',\n",
       "        '0008968c0d451dbc5a9968da03196fe20051965edde7413775c4eb3be9abe9c2',\n",
       "        '000aa7f0dc06cd7174389e76c9e132a67860c5f65f970699daccc14425ac31a8',\n",
       "        '001127bffdda108579e6cb16080440e89bf1250a776c6e55f56e35e9ee029a8d',\n",
       "        '001ea4e9c54f7e9c88811260d954edc059d596147e1cf8adc73323aebf571fd8',\n",
       "        '001fd23db1109a94bba1319bb73df0b479059027c182da490e1161b34cd3af61',\n",
       "        '0021da829b898f82269fc51feded4eac2129058ee95bd75bb1591e2eb14ecc79',\n",
       "        '00228762ecff5b8d1ea6a2e52b96dafa198febddbc3bf350eb611f28e61ea6ce',\n",
       "        ...\n",
       "        'fd72c6498ad0ee844cce043bf2a8dca00a8491038a695bf2b7f3341de7f8323d',\n",
       "        'fdba717e37a0a9738787d6a670361a8774d1ed3d00ffc1e2687fe0cb8c02a1e1',\n",
       "        'fdcd7d55c497c620e7ffa7c557ec58da969cac10d3df3658b0cdc58a95ec25ef',\n",
       "        'fdd8277a1a3f77b8c74a9a4f53e567d621f606948e20719cfd1215f22e88b306',\n",
       "        'fdfd55a82781e51b05301b269fc91dfab6cf048f0e29e5d58c388156b14458af',\n",
       "        'fe99a0069d6b3c64c2707d0ce53b9311540917471d82df6e0db01dcc057bc90c',\n",
       "        'fecc5f77b5f7ee4570efde9ab05ec94d0de2bf80efb4f6fe55c8ea9c608b9b0c',\n",
       "        'fece2f68864c311a0b5208e2eb735b3dcde7e41461d327bdd033014a27168ce8',\n",
       "        'fee56cc5315dafb35a4490ccc6f711092cae913550c83251955178bdd1bc6be3',\n",
       "        'ff5b8a8b26bf93a66290e9bd1b73393ac6a58968a7851941508cce49f5dfa469'],\n",
       "       dtype='object', length=1362281))"
      ]
     },
     "execution_count": 2,
     "metadata": {},
     "output_type": "execute_result"
    }
   ],
   "source": [
    "fact_customer = pd.factorize(df['customer_id'])\n",
    "fact_customer"
   ]
  },
  {
   "cell_type": "code",
   "execution_count": 3,
   "metadata": {},
   "outputs": [
    {
     "data": {
      "text/plain": [
       "(array([     0,      1,      2, ..., 104185,  70100, 102985],\n",
       "       shape=(31788324,)),\n",
       " Index([663713001, 541518023, 505221004, 685687003, 685687004, 685687001,\n",
       "        505221001, 688873012, 501323011, 598859003,\n",
       "        ...\n",
       "        874390010, 930405002, 884704003, 879658001, 930283003, 913290001,\n",
       "        860135008, 539060028, 810737015, 533261032],\n",
       "       dtype='int64', length=104547))"
      ]
     },
     "execution_count": 3,
     "metadata": {},
     "output_type": "execute_result"
    }
   ],
   "source": [
    "fact_article = pd.factorize(df['article_id'])\n",
    "fact_article"
   ]
  },
  {
   "cell_type": "code",
   "execution_count": 4,
   "metadata": {},
   "outputs": [
    {
     "data": {
      "text/plain": [
       "<Compressed Sparse Row sparse matrix of dtype 'int64'\n",
       "\twith 27306439 stored elements and shape (1362281, 104547)>"
      ]
     },
     "execution_count": 4,
     "metadata": {},
     "output_type": "execute_result"
    }
   ],
   "source": [
    "from scipy.sparse import csr_matrix\n",
    "\n",
    "matrix = csr_matrix((df['purchase_flag'], (fact_customer[0], fact_article[0])), shape=(len(fact_customer[1]), len(fact_article[1])))\n",
    "matrix"
   ]
  },
  {
   "cell_type": "code",
   "execution_count": null,
   "metadata": {},
   "outputs": [
    {
     "name": "stderr",
     "output_type": "stream",
     "text": [
      "/Volumes/Programming/github/gradanii/hm-fashion-recommender/venv/lib/python3.12/site-packages/tqdm/auto.py:21: TqdmWarning: IProgress not found. Please update jupyter and ipywidgets. See https://ipywidgets.readthedocs.io/en/stable/user_install.html\n",
      "  from .autonotebook import tqdm as notebook_tqdm\n",
      "100%|██████████| 15/15 [01:23<00:00,  5.56s/it]"
     ]
    },
    {
     "name": "stdout",
     "output_type": "stream",
     "text": [
      "(1362281, 50) (104547, 50)\n"
     ]
    },
    {
     "name": "stderr",
     "output_type": "stream",
     "text": [
      "\n"
     ]
    },
    {
     "ename": "",
     "evalue": "",
     "output_type": "error",
     "traceback": [
      "\u001b[1;31mThe Kernel crashed while executing code in the current cell or a previous cell. \n",
      "\u001b[1;31mPlease review the code in the cell(s) to identify a possible cause of the failure. \n",
      "\u001b[1;31mClick <a href='https://aka.ms/vscodeJupyterKernelCrash'>here</a> for more info. \n",
      "\u001b[1;31mView Jupyter <a href='command:jupyter.viewOutput'>log</a> for further details."
     ]
    }
   ],
   "source": [
    "from implicit.als import AlternatingLeastSquares\n",
    "\n",
    "model = AlternatingLeastSquares(factors=50)\n",
    "\n",
    "model.fit(matrix)\n",
    "\n",
    "print(model.user_factors.shape, model.item_factors.shape)"
   ]
  },
  {
   "cell_type": "code",
   "execution_count": null,
   "metadata": {},
   "outputs": [],
   "source": []
  }
 ],
 "metadata": {
  "kernelspec": {
   "display_name": "venv",
   "language": "python",
   "name": "python3"
  },
  "language_info": {
   "codemirror_mode": {
    "name": "ipython",
    "version": 3
   },
   "file_extension": ".py",
   "mimetype": "text/x-python",
   "name": "python",
   "nbconvert_exporter": "python",
   "pygments_lexer": "ipython3",
   "version": "3.12.8"
  }
 },
 "nbformat": 4,
 "nbformat_minor": 2
}
